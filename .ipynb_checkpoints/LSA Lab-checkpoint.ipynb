{
 "metadata": {
  "name": "",
  "signature": "sha256:e925ea9bde4e38afe10f71b2843b4d8db83af5dd625b541fbe4843b53a649f92"
 },
 "nbformat": 3,
 "nbformat_minor": 0,
 "worksheets": [
  {
   "cells": [
    {
     "cell_type": "code",
     "collapsed": false,
     "input": [
      "    from bs4 import BeautifulSoup\n",
      "    import nltk\n",
      "    from nltk.corpus import stopwords\n",
      "    from sklearn.feature_extraction.text import TfidfVectorizer\n",
      "    from sklearn.decomposition import TruncatedSVD"
     ],
     "language": "python",
     "metadata": {},
     "outputs": [],
     "prompt_number": 2
    },
    {
     "cell_type": "code",
     "collapsed": false,
     "input": [
      "nltk.download('stopwords')"
     ],
     "language": "python",
     "metadata": {},
     "outputs": [
      {
       "output_type": "stream",
       "stream": "stdout",
       "text": [
        "[nltk_data] Downloading package stopwords to\n",
        "[nltk_data]     /Users/pisonwaters/nltk_data...\n",
        "[nltk_data]   Package stopwords is already up-to-date!\n"
       ]
      },
      {
       "metadata": {},
       "output_type": "pyout",
       "prompt_number": 3,
       "text": [
        "True"
       ]
      }
     ],
     "prompt_number": 3
    },
    {
     "cell_type": "code",
     "collapsed": false,
     "input": [
      "from sklearn.datasets import fetch_20newsgroups\n",
      "categories = ['rec.sport.baseball']\n",
      "dataset = fetch_20newsgroups(subset='all',shuffle=True, random_state=42, categories=categories)\n",
      "corpus = dataset.data"
     ],
     "language": "python",
     "metadata": {},
     "outputs": [],
     "prompt_number": 4
    },
    {
     "cell_type": "code",
     "collapsed": false,
     "input": [
      "#posts = ['Users/pisonwaters/Downloads/20news-bydate (1) 2/20news-bydate-train/rec.sport.baseball']"
     ],
     "language": "python",
     "metadata": {},
     "outputs": [],
     "prompt_number": 5
    },
    {
     "cell_type": "code",
     "collapsed": false,
     "input": [
      "stopset = set(stopwords.words('english'))\n",
      "stopset.update(['lt','p','/p','br','amp','quot','field','font','normal','span','0px','rgb','style','51', \n",
      "                 'spacing','text','helvetica','size','family', 'space', 'arial', 'height', 'indent', 'letter',\n",
      "                     'line','none','sans','serif','transform','line','variant','weight','times', 'new','strong', 'video', 'title',\n",
      "                   'white','word','letter', 'roman','0pt','16','color','12','14','21', 'neue', 'apple', 'class', '93', 'it', 'ndo', 're', 'cs', 'nntp', 'mike', 'aix', '00', 'john', 'ca', 'com', 'vb30', 've', 'edu', 'morris', 'hcf', '10', '11', '22', 'didn' ])\n",
      "     \n"
     ],
     "language": "python",
     "metadata": {},
     "outputs": [],
     "prompt_number": 6
    },
    {
     "cell_type": "code",
     "collapsed": false,
     "input": [
      "corpus[0]"
     ],
     "language": "python",
     "metadata": {},
     "outputs": [
      {
       "metadata": {},
       "output_type": "pyout",
       "prompt_number": 7,
       "text": [
        "u\"From: writingctr@leo.bsuvc.bsu.edu\\nSubject: Re: CUB fever.\\nOrganization: Ball State University, Muncie, In - Univ. Computing Svc's\\nLines: 21\\n\\n\\nIn article <kingoz.735285670@camelot>, kingoz@camelot.bradley.edu (Orin Roth) writes:\\n> \\n>    CUB fever is hitting me again. I'm beginning to think they have a \\n>    chance this year. (what the heck am i thinking?)\\n>    Sorry. Just a moment of incompetence.\\n>    I'll be ok. Really. \\n>    Orin.\\n>    Bradley U.\\n> \\n> --\\n> I'm really a jester in disguise!                                   \\nI hear ya!  Then again, we must remember that we are indeed Cub fans, and\\nthat the Cubs will eventually blow it.  After all, the Cubs are the easiest\\nteam in the National League to root for.  No Pressure.  You know they will\\nlose eventually.  Oh well, I suppose we must have faith.  After all, they\\ndo look pretty good, and they don't even have Sandberg back yet.  \\n\\nCUBS IN '93!!!!!\\n\\nCHA\\n\""
       ]
      }
     ],
     "prompt_number": 7
    },
    {
     "cell_type": "code",
     "collapsed": false,
     "input": [
      "vectorizer = TfidfVectorizer(stop_words=stopset,\n",
      "use_idf=True, ngram_range=(1, 3))\n",
      "X = vectorizer.fit_transform(corpus)"
     ],
     "language": "python",
     "metadata": {},
     "outputs": [],
     "prompt_number": 8
    },
    {
     "cell_type": "code",
     "collapsed": false,
     "input": [
      "X[0]"
     ],
     "language": "python",
     "metadata": {},
     "outputs": [
      {
       "metadata": {},
       "output_type": "pyout",
       "prompt_number": 9,
       "text": [
        "<1x187597 sparse matrix of type '<type 'numpy.float64'>'\n",
        "\twith 224 stored elements in Compressed Sparse Row format>"
       ]
      }
     ],
     "prompt_number": 9
    },
    {
     "cell_type": "code",
     "collapsed": false,
     "input": [
      "print X[0]"
     ],
     "language": "python",
     "metadata": {},
     "outputs": [
      {
       "output_type": "stream",
       "stream": "stdout",
       "text": [
        "  (0, 186863)\t0.0743321003187\n",
        "  (0, 28164)\t0.0743321003187\n",
        "  (0, 143576)\t0.0743321003187\n",
        "  (0, 61725)\t0.0743321003187\n",
        "  (0, 75308)\t0.0743321003187\n",
        "  (0, 130761)\t0.0743321003187\n",
        "  (0, 101089)\t0.0743321003187\n",
        "  (0, 64114)\t0.0743321003187\n",
        "  (0, 111947)\t0.0743321003187\n",
        "  (0, 160538)\t0.0743321003187\n",
        "  (0, 178564)\t0.0743321003187\n",
        "  (0, 117147)\t0.0743321003187\n",
        "  (0, 61861)\t0.0743321003187\n",
        "  (0, 101583)\t0.0743321003187\n",
        "  (0, 93094)\t0.0743321003187\n",
        "  (0, 130676)\t0.0743321003187\n",
        "  (0, 140716)\t0.0743321003187\n",
        "  (0, 95725)\t0.0743321003187\n",
        "  (0, 112590)\t0.0743321003187\n",
        "  (0, 162925)\t0.0743321003187\n",
        "  (0, 58349)\t0.0743321003187\n",
        "  (0, 50261)\t0.0743321003187\n",
        "  (0, 34981)\t0.0743321003187\n",
        "  (0, 61851)\t0.0743321003187\n",
        "  (0, 50265)\t0.0743321003187\n",
        "  :\t:\n",
        "  (0, 82076)\t0.0346364536593\n",
        "  (0, 183395)\t0.0157334704623\n",
        "  (0, 140963)\t0.0558587693852\n",
        "  (0, 119829)\t0.11171753877\n",
        "  (0, 36783)\t0.10017807957\n",
        "  (0, 39834)\t0.105785441054\n",
        "  (0, 15721)\t0.0743321003187\n",
        "  (0, 92476)\t0.11171753877\n",
        "  (0, 24969)\t0.0162733928924\n",
        "  (0, 98436)\t0.0103725223445\n",
        "  (0, 161127)\t0.0614159107878\n",
        "  (0, 46924)\t0.0392652032934\n",
        "  (0, 172750)\t0.0396147337934\n",
        "  (0, 111744)\t0.0614159107878\n",
        "  (0, 172785)\t0.0181531577341\n",
        "  (0, 156177)\t0.0376758847654\n",
        "  (0, 28686)\t0.0309810369837\n",
        "  (0, 119217)\t0.0103933931255\n",
        "  (0, 65662)\t0.126010458632\n",
        "  (0, 50144)\t0.162808352572\n",
        "  (0, 159033)\t0.0103101623018\n",
        "  (0, 38040)\t0.0511209164864\n",
        "  (0, 38061)\t0.0511209164864\n",
        "  (0, 96774)\t0.0500890397849\n",
        "  (0, 184332)\t0.0743321003187\n"
       ]
      }
     ],
     "prompt_number": 10
    },
    {
     "cell_type": "code",
     "collapsed": false,
     "input": [
      "X.shape"
     ],
     "language": "python",
     "metadata": {},
     "outputs": [
      {
       "metadata": {},
       "output_type": "pyout",
       "prompt_number": 11,
       "text": [
        "(994, 187597)"
       ]
      }
     ],
     "prompt_number": 11
    },
    {
     "cell_type": "code",
     "collapsed": false,
     "input": [
      "lsa = TruncatedSVD(n_components = 27, n_iter = 100) \n",
      "lsa.fit (X)"
     ],
     "language": "python",
     "metadata": {},
     "outputs": [
      {
       "metadata": {},
       "output_type": "pyout",
       "prompt_number": 12,
       "text": [
        "TruncatedSVD(algorithm='randomized', n_components=27, n_iter=100,\n",
        "       random_state=None, tol=0.0)"
       ]
      }
     ],
     "prompt_number": 12
    },
    {
     "cell_type": "code",
     "collapsed": false,
     "input": [
      "lsa.components_[0]"
     ],
     "language": "python",
     "metadata": {},
     "outputs": [
      {
       "metadata": {},
       "output_type": "pyout",
       "prompt_number": 13,
       "text": [
        "array([ 0.01579201,  0.00195028,  0.0004369 , ...,  0.00112683,\n",
        "        0.00112683,  0.00112683])"
       ]
      }
     ],
     "prompt_number": 13
    },
    {
     "cell_type": "code",
     "collapsed": false,
     "input": [
      "terms = vectorizer.get_feature_names()\n",
      "for i, comp in enumerate(lsa.components_):\n",
      "    termsInComp = zip (terms,comp)\n",
      "    sortedTerms = sorted(termsInComp, key=lambda x: x[1], reverse=True) [:10]\n",
      "    print \"concept %d:\" % i\n",
      "    for term in sortedTerms:\n",
      "        print term[0]\n",
      "    print \" \"\n",
      "                                                                    "
     ],
     "language": "python",
     "metadata": {},
     "outputs": [
      {
       "output_type": "stream",
       "stream": "stdout",
       "text": [
        "concept 0:\n",
        "year\n",
        "team\n",
        "would\n",
        "game\n",
        "writes\n",
        "article\n",
        "baseball\n",
        "players\n",
        "games\n",
        "one\n",
        " \n",
        "concept 1:"
       ]
      },
      {
       "output_type": "stream",
       "stream": "stdout",
       "text": [
        "\n",
        "games\n",
        "good\n",
        "would\n",
        "time\n",
        "like\n",
        "let\n",
        "well\n",
        "lines\n",
        "doesn\n",
        "clutch\n",
        " \n",
        "concept 2:"
       ]
      },
      {
       "output_type": "stream",
       "stream": "stdout",
       "text": [
        "\n",
        "think\n",
        "clutch\n",
        "host\n",
        "better\n",
        "netcom\n",
        "sabo\n",
        "still\n",
        "never\n",
        "isn\n",
        "one\n",
        " \n",
        "concept 3:"
       ]
      },
      {
       "output_type": "stream",
       "stream": "stdout",
       "text": [
        "\n",
        "see\n",
        "team\n",
        "last year\n",
        "would\n",
        "since\n",
        "sox\n",
        "long\n",
        "hall\n",
        "baseball\n",
        "much\n",
        " \n",
        "concept 4:"
       ]
      },
      {
       "output_type": "stream",
       "stream": "stdout",
       "text": [
        "\n",
        "time\n",
        "play\n",
        "pitcher\n",
        "runs\n",
        "would\n",
        "game\n",
        "might\n",
        "baseball players\n",
        "games\n",
        "probably\n",
        " \n",
        "concept 5:"
       ]
      },
      {
       "output_type": "stream",
       "stream": "stdout",
       "text": [
        "\n",
        "games\n",
        "writes\n",
        "game\n",
        "much\n",
        "batting\n",
        "host\n",
        "would\n",
        "sox\n",
        "series\n",
        "world\n",
        " \n",
        "concept 6:"
       ]
      },
      {
       "output_type": "stream",
       "stream": "stdout",
       "text": [
        "\n",
        "year\n",
        "last\n",
        "sox\n",
        "going\n",
        "season\n",
        "come\n",
        "good\n",
        "one\n",
        "still\n",
        "pitching\n",
        " \n",
        "concept 7:"
       ]
      },
      {
       "output_type": "stream",
       "stream": "stdout",
       "text": [
        "\n",
        "roger\n",
        "back\n",
        "won\n",
        "team\n",
        "give\n",
        "players\n",
        "pitcher\n",
        "usa\n",
        "cc\n",
        "much\n",
        " \n",
        "concept 8:"
       ]
      },
      {
       "output_type": "stream",
       "stream": "stdout",
       "text": [
        "\n",
        "game\n",
        "last\n",
        "first\n",
        "home\n",
        "players\n",
        "run\n",
        "baseball\n",
        "last year\n",
        "braves\n",
        "every\n",
        " \n",
        "concept 9:"
       ]
      },
      {
       "output_type": "stream",
       "stream": "stdout",
       "text": [
        "\n",
        "organization university\n",
        "one\n",
        "time\n",
        "baseball\n",
        "game\n",
        "university\n",
        "writes\n",
        "subject\n",
        "help\n",
        "right\n",
        " \n",
        "concept 10:"
       ]
      },
      {
       "output_type": "stream",
       "stream": "stdout",
       "text": [
        "\n",
        "one\n",
        "subject\n",
        "players\n",
        "organization university\n",
        "article\n",
        "distribution\n",
        "going\n",
        "david\n",
        "pitcher\n",
        "people\n",
        " \n",
        "concept 11:"
       ]
      },
      {
       "output_type": "stream",
       "stream": "stdout",
       "text": [
        "\n",
        "braves\n",
        "win\n",
        "time\n",
        "university\n",
        "one\n",
        "still\n",
        "team\n",
        "home\n",
        "well\n",
        "go\n",
        " \n",
        "concept 12:"
       ]
      },
      {
       "output_type": "stream",
       "stream": "stdout",
       "text": [
        "\n",
        "team\n",
        "runs\n",
        "players\n",
        "last\n",
        "pitching\n",
        "posting host\n",
        "time\n",
        "braves\n",
        "hitting\n",
        "subject\n",
        " \n",
        "concept 13:"
       ]
      },
      {
       "output_type": "stream",
       "stream": "stdout",
       "text": [
        "\n",
        "baseball\n",
        "good\n",
        "get\n",
        "know\n",
        "really\n",
        "year\n",
        "lines\n",
        "said\n",
        "game\n",
        "see\n",
        " \n",
        "concept 14:"
       ]
      },
      {
       "output_type": "stream",
       "stream": "stdout",
       "text": [
        "\n",
        "players\n",
        "runs\n",
        "posting host\n",
        "could\n",
        "really\n",
        "games\n",
        "see\n",
        "host\n",
        "batting\n",
        "best\n",
        " \n",
        "concept 15:"
       ]
      },
      {
       "output_type": "stream",
       "stream": "stdout",
       "text": [
        "\n",
        "players\n",
        "last\n",
        "think\n",
        "want\n",
        "even\n",
        "hit\n",
        "best\n",
        "good\n",
        "since\n",
        "time\n",
        " \n",
        "concept 16:"
       ]
      },
      {
       "output_type": "stream",
       "stream": "stdout",
       "text": [
        "\n",
        "like\n",
        "better\n",
        "baseball\n",
        "hit\n",
        "posting host\n",
        "time\n",
        "many\n",
        "first\n",
        "stats\n",
        "writes\n",
        " \n",
        "concept 17:"
       ]
      },
      {
       "output_type": "stream",
       "stream": "stdout",
       "text": [
        "\n",
        "time\n",
        "last\n",
        "host\n",
        "would\n",
        "baseball\n",
        "know\n",
        "posting host\n",
        "players\n",
        "may\n",
        "writes\n",
        " \n",
        "concept 18:"
       ]
      },
      {
       "output_type": "stream",
       "stream": "stdout",
       "text": [
        "\n",
        "think\n",
        "see\n",
        "better\n",
        "first\n",
        "back\n",
        "win\n",
        "one\n",
        "home\n",
        "much\n",
        "would\n",
        " \n",
        "concept 19:"
       ]
      },
      {
       "output_type": "stream",
       "stream": "stdout",
       "text": [
        "\n",
        "last\n",
        "make\n",
        "pitcher\n",
        "good\n",
        "year\n",
        "could\n",
        "time\n",
        "first\n",
        "game\n",
        "league\n",
        " \n",
        "concept 20:"
       ]
      },
      {
       "output_type": "stream",
       "stream": "stdout",
       "text": [
        "\n",
        "team\n",
        "game\n",
        "think\n",
        "better\n",
        "get\n",
        "know\n",
        "year\n",
        "best\n",
        "article\n",
        "still\n",
        " \n",
        "concept 21:"
       ]
      },
      {
       "output_type": "stream",
       "stream": "stdout",
       "text": [
        "\n",
        "game\n",
        "one\n",
        "host\n",
        "posting host\n",
        "university\n",
        "writes\n",
        "last\n",
        "much\n",
        "ll\n",
        "still\n",
        " \n",
        "concept 22:"
       ]
      },
      {
       "output_type": "stream",
       "stream": "stdout",
       "text": [
        "\n",
        "year\n",
        "game\n",
        "know\n",
        "last\n",
        "come\n",
        "two\n",
        "host\n",
        "think\n",
        "university\n",
        "games\n",
        " \n",
        "concept 23:"
       ]
      },
      {
       "output_type": "stream",
       "stream": "stdout",
       "text": [
        "\n",
        "team\n",
        "well\n",
        "games\n",
        "good\n",
        "article\n",
        "sox\n",
        "home\n",
        "see\n",
        "one\n",
        "say\n",
        " \n",
        "concept 24:"
       ]
      },
      {
       "output_type": "stream",
       "stream": "stdout",
       "text": [
        "\n",
        "would\n",
        "year\n",
        "posting\n",
        "lines\n",
        "season\n",
        "university\n",
        "know\n",
        "000\n",
        "subject\n",
        "braves\n",
        " \n",
        "concept 25:"
       ]
      },
      {
       "output_type": "stream",
       "stream": "stdout",
       "text": [
        "\n",
        "would\n",
        "players\n",
        "baseball\n",
        "even\n",
        "time\n",
        "runs\n",
        "also\n",
        "first\n",
        "team\n",
        "run\n",
        " \n",
        "concept 26:"
       ]
      },
      {
       "output_type": "stream",
       "stream": "stdout",
       "text": [
        "\n",
        "subject\n",
        "host\n",
        "game\n",
        "team\n",
        "hit\n",
        "hitter\n",
        "think\n",
        "know\n",
        "home\n",
        "last year\n",
        " \n"
       ]
      }
     ],
     "prompt_number": 14
    },
    {
     "cell_type": "code",
     "collapsed": false,
     "input": [],
     "language": "python",
     "metadata": {},
     "outputs": [],
     "prompt_number": 18
    }
   ],
   "metadata": {}
  }
 ]
}