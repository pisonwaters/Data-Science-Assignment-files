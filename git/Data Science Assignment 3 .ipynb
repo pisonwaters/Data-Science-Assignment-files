{
 "metadata": {
  "name": "",
  "signature": "sha256:d45d371df79acee49a38e86f3ddcdb892f6e3575dbc1281e7e02796feed92cc1"
 },
 "nbformat": 3,
 "nbformat_minor": 0,
 "worksheets": [
  {
   "cells": [
    {
     "cell_type": "code",
     "collapsed": false,
     "input": [
      "from sklearn import datasets\n",
      "import pandas as pd\n",
      "from sklearn.preprocessing import StandardScaler\n",
      "from sklearn.cross_validation import train_test_split\n",
      "from sklearn.metrics import mean_squared_error\n",
      "from sklearn.metrics import r2_score\n",
      "from sklearn.linear_model import LinearRegression\n",
      "from sklearn.linear_model import Lasso\n"
     ],
     "language": "python",
     "metadata": {},
     "outputs": [],
     "prompt_number": 5
    },
    {
     "cell_type": "code",
     "collapsed": false,
     "input": [
      "bean = datasets.load_boston()\n",
      "print bean.DESCR"
     ],
     "language": "python",
     "metadata": {},
     "outputs": [
      {
       "output_type": "stream",
       "stream": "stdout",
       "text": [
        "Boston House Prices dataset\n",
        "\n",
        "Notes\n",
        "------\n",
        "Data Set Characteristics:  \n",
        "\n",
        "    :Number of Instances: 506 \n",
        "\n",
        "    :Number of Attributes: 13 numeric/categorical predictive\n",
        "    \n",
        "    :Median Value (attribute 14) is usually the target\n",
        "\n",
        "    :Attribute Information (in order):\n",
        "        - CRIM     per capita crime rate by town\n",
        "        - ZN       proportion of residential land zoned for lots over 25,000 sq.ft.\n",
        "        - INDUS    proportion of non-retail business acres per town\n",
        "        - CHAS     Charles River dummy variable (= 1 if tract bounds river; 0 otherwise)\n",
        "        - NOX      nitric oxides concentration (parts per 10 million)\n",
        "        - RM       average number of rooms per dwelling\n",
        "        - AGE      proportion of owner-occupied units built prior to 1940\n",
        "        - DIS      weighted distances to five Boston employment centres\n",
        "        - RAD      index of accessibility to radial highways\n",
        "        - TAX      full-value property-tax rate per $10,000\n",
        "        - PTRATIO  pupil-teacher ratio by town\n",
        "        - B        1000(Bk - 0.63)^2 where Bk is the proportion of blacks by town\n",
        "        - LSTAT    % lower status of the population\n",
        "        - MEDV     Median value of owner-occupied homes in $1000's\n",
        "\n",
        "    :Missing Attribute Values: None\n",
        "\n",
        "    :Creator: Harrison, D. and Rubinfeld, D.L.\n",
        "\n",
        "This is a copy of UCI ML housing dataset.\n",
        "http://archive.ics.uci.edu/ml/datasets/Housing\n",
        "\n",
        "\n",
        "This dataset was taken from the StatLib library which is maintained at Carnegie Mellon University.\n",
        "\n",
        "The Boston house-price data of Harrison, D. and Rubinfeld, D.L. 'Hedonic\n",
        "prices and the demand for clean air', J. Environ. Economics & Management,\n",
        "vol.5, 81-102, 1978.   Used in Belsley, Kuh & Welsch, 'Regression diagnostics\n",
        "...', Wiley, 1980.   N.B. Various transformations are used in the table on\n",
        "pages 244-261 of the latter.\n",
        "\n",
        "The Boston house-price data has been used in many machine learning papers that address regression\n",
        "problems.   \n",
        "     \n",
        "**References**\n",
        "\n",
        "   - Belsley, Kuh & Welsch, 'Regression diagnostics: Identifying Influential Data and Sources of Collinearity', Wiley, 1980. 244-261.\n",
        "   - Quinlan,R. (1993). Combining Instance-Based and Model-Based Learning. In Proceedings on the Tenth International Conference of Machine Learning, 236-243, University of Massachusetts, Amherst. Morgan Kaufmann.\n",
        "   - many more! (see http://archive.ics.uci.edu/ml/datasets/Housing)\n",
        "\n"
       ]
      }
     ],
     "prompt_number": 6
    },
    {
     "cell_type": "code",
     "collapsed": false,
     "input": [
      "def load_boston():\n",
      "    scaler = StandardScaler()\n",
      "    boston = datasets.load_boston()\n",
      "    X=boston.data\n",
      "    y=boston.target\n",
      "    X = scaler.fit_transform(X)\n",
      "    return train_test_split(X,y)"
     ],
     "language": "python",
     "metadata": {},
     "outputs": [],
     "prompt_number": 7
    },
    {
     "cell_type": "code",
     "collapsed": false,
     "input": [
      "X_train, X_test, y_train, y_test = load_boston()"
     ],
     "language": "python",
     "metadata": {},
     "outputs": [],
     "prompt_number": 8
    },
    {
     "cell_type": "code",
     "collapsed": false,
     "input": [
      "X_train.shape"
     ],
     "language": "python",
     "metadata": {},
     "outputs": [
      {
       "metadata": {},
       "output_type": "pyout",
       "prompt_number": 9,
       "text": [
        "(379, 13)"
       ]
      }
     ],
     "prompt_number": 9
    },
    {
     "cell_type": "code",
     "collapsed": false,
     "input": [
      "clf = LinearRegression()\n",
      "clf.fit(X_train, y_train)"
     ],
     "language": "python",
     "metadata": {},
     "outputs": [
      {
       "metadata": {},
       "output_type": "pyout",
       "prompt_number": 10,
       "text": [
        "LinearRegression(copy_X=True, fit_intercept=True, normalize=False)"
       ]
      }
     ],
     "prompt_number": 10
    },
    {
     "cell_type": "code",
     "collapsed": false,
     "input": [
      "zip (y_test, clf.predict(X_test))"
     ],
     "language": "python",
     "metadata": {},
     "outputs": [
      {
       "metadata": {},
       "output_type": "pyout",
       "prompt_number": 11,
       "text": [
        "[(28.699999999999999, 27.994436728652019),\n",
        " (27.100000000000001, 18.60957105326337),\n",
        " (23.0, 20.139942974776861),\n",
        " (20.5, 19.902819612855566),\n",
        " (15.300000000000001, 21.694565391193535),\n",
        " (22.899999999999999, 22.524297133128773),\n",
        " (32.0, 34.235262977069027),\n",
        " (19.100000000000001, 23.974251912934477),\n",
        " (14.6, 7.5428781926432649),\n",
        " (22.199999999999999, 23.975792751071722),\n",
        " (23.199999999999999, 25.859111088479409),\n",
        " (26.699999999999999, 34.947837398866049),\n",
        " (10.5, 6.406320771738244),\n",
        " (21.699999999999999, 23.844361366273027),\n",
        " (15.1, 17.383479942569029),\n",
        " (36.200000000000003, 27.787524094748999),\n",
        " (23.800000000000001, 25.571966590190492),\n",
        " (21.100000000000001, 20.645440407022015),\n",
        " (22.0, 21.40387878632837),\n",
        " (14.300000000000001, 14.080877086211688),\n",
        " (19.399999999999999, 20.220610008197255),\n",
        " (22.0, 21.140983284624948),\n",
        " (28.199999999999999, 33.372690731282944),\n",
        " (31.699999999999999, 33.266332824393018),\n",
        " (7.2000000000000002, 17.698251474056157),\n",
        " (22.899999999999999, 20.456732319404168),\n",
        " (29.100000000000001, 30.672120277536756),\n",
        " (19.600000000000001, 21.125719796695822),\n",
        " (23.600000000000001, 29.558457587658609),\n",
        " (28.399999999999999, 31.351504582639123),\n",
        " (31.100000000000001, 32.076611338803993),\n",
        " (22.100000000000001, 27.439652396633662),\n",
        " (19.199999999999999, 24.12255645475916),\n",
        " (21.0, 20.942716520241305),\n",
        " (32.700000000000003, 29.931014169025776),\n",
        " (41.299999999999997, 33.057017974501356),\n",
        " (17.800000000000001, 8.6451998560637993),\n",
        " (22.899999999999999, 28.960622114599222),\n",
        " (10.4, 15.1751671311827),\n",
        " (19.100000000000001, 16.577041769958534),\n",
        " (17.5, 17.085791297537785),\n",
        " (22.600000000000001, 27.615437906581093),\n",
        " (20.0, 20.141884214378994),\n",
        " (25.100000000000001, 31.688176782453702),\n",
        " (10.4, 6.633713695667744),\n",
        " (20.699999999999999, 21.448222031626436),\n",
        " (22.0, 26.683760566167855),\n",
        " (19.600000000000001, 18.000104898385352),\n",
        " (23.199999999999999, 26.889475126489121),\n",
        " (34.700000000000003, 30.426105021917316),\n",
        " (21.199999999999999, 21.958774726985052),\n",
        " (24.5, 20.829017045231133),\n",
        " (5.5999999999999996, 11.658466749830989),\n",
        " (24.5, 20.883246039650079),\n",
        " (37.899999999999999, 34.489631866717104),\n",
        " (10.199999999999999, 6.2981452393825883),\n",
        " (43.100000000000001, 37.07348254681807),\n",
        " (36.200000000000003, 28.419736577758925),\n",
        " (11.9, 8.8947269548318495),\n",
        " (21.699999999999999, 25.123600977536501),\n",
        " (8.3000000000000007, 13.429384736587359),\n",
        " (33.200000000000003, 32.463950808422766),\n",
        " (20.0, 18.442339443969836),\n",
        " (22.199999999999999, 22.096940391089326),\n",
        " (13.4, 12.339247960159476),\n",
        " (12.300000000000001, 12.963972268224474),\n",
        " (30.300000000000001, 32.063044990181254),\n",
        " (45.399999999999999, 38.480395545360544),\n",
        " (20.300000000000001, 23.960438355658805),\n",
        " (14.300000000000001, 16.452722824776004),\n",
        " (21.199999999999999, 20.883528389016973),\n",
        " (23.0, 31.065074822267462),\n",
        " (23.300000000000001, 21.598711693425663),\n",
        " (21.399999999999999, 25.190252294533657),\n",
        " (15.199999999999999, 15.806503740368143),\n",
        " (27.899999999999999, 32.513308588498411),\n",
        " (42.799999999999997, 28.690584725947264),\n",
        " (32.399999999999999, 38.179342613036859),\n",
        " (13.800000000000001, 20.345267581424171),\n",
        " (27.5, 19.404506413432465),\n",
        " (14.9, 14.348643635406415),\n",
        " (8.6999999999999993, 7.8595697811680125),\n",
        " (14.9, 16.776195899227378),\n",
        " (24.100000000000001, 20.082892816455935),\n",
        " (19.899999999999999, 19.96870190406403),\n",
        " (18.600000000000001, 20.038963296494366),\n",
        " (22.600000000000001, 19.192909211400391),\n",
        " (16.5, 21.780285174161243),\n",
        " (22.0, 27.986460999866761),\n",
        " (22.800000000000001, 28.740114666841308),\n",
        " (33.100000000000001, 32.56169643135437),\n",
        " (15.6, 15.809182085777488),\n",
        " (16.699999999999999, 19.575531695119388),\n",
        " (21.5, 26.124592133572918),\n",
        " (15.6, 13.077191119191291),\n",
        " (17.699999999999999, 19.977789966784954),\n",
        " (13.800000000000001, 0.69375459939714545),\n",
        " (22.800000000000001, 26.674639525239066),\n",
        " (14.5, 13.854502450131683),\n",
        " (17.899999999999999, 1.1943580738727562),\n",
        " (16.800000000000001, 20.777623613515502),\n",
        " (20.699999999999999, 27.567323508292816),\n",
        " (50.0, 36.480512446668115),\n",
        " (23.899999999999999, 27.964663120600214),\n",
        " (22.5, 29.00563044168117),\n",
        " (13.1, 12.921058832751314),\n",
        " (13.4, 12.387693886232007),\n",
        " (21.399999999999999, 20.215712788834516),\n",
        " (18.199999999999999, 14.499566600468365),\n",
        " (18.699999999999999, 21.756691818014286),\n",
        " (18.5, 19.39499751781748),\n",
        " (36.100000000000001, 33.436791886428509),\n",
        " (43.5, 39.256088142435786),\n",
        " (34.600000000000001, 34.200732918984023),\n",
        " (15.0, 16.146841244226302),\n",
        " (13.6, 12.645269454298564),\n",
        " (50.0, 40.772711770882417),\n",
        " (9.6999999999999993, 9.9188370420530703),\n",
        " (17.300000000000001, 15.329090558232352),\n",
        " (13.300000000000001, 15.573545100788905),\n",
        " (17.800000000000001, 21.83109488627996),\n",
        " (14.0, 13.05359563368037),\n",
        " (23.100000000000001, 25.11190501549131),\n",
        " (7.5, 12.161899988899657),\n",
        " (17.100000000000001, 19.297186662199181),\n",
        " (18.300000000000001, 20.588332943783925),\n",
        " (38.700000000000003, 35.889697462114455)]"
       ]
      }
     ],
     "prompt_number": 11
    },
    {
     "cell_type": "code",
     "collapsed": false,
     "input": [
      "r2_score(y_test, clf.predict(X_test))"
     ],
     "language": "python",
     "metadata": {},
     "outputs": [
      {
       "metadata": {},
       "output_type": "pyout",
       "prompt_number": 12,
       "text": [
        "0.70707985619176617"
       ]
      }
     ],
     "prompt_number": 12
    },
    {
     "cell_type": "code",
     "collapsed": false,
     "input": [
      "mean_squared_error(y_test, clf.predict(X_test))"
     ],
     "language": "python",
     "metadata": {},
     "outputs": [
      {
       "metadata": {},
       "output_type": "pyout",
       "prompt_number": 13,
       "text": [
        "22.854733450679184"
       ]
      }
     ],
     "prompt_number": 13
    },
    {
     "cell_type": "code",
     "collapsed": false,
     "input": [
      "alpha = 0.1\n",
      "lasso = Lasso(alpha=alpha)\n",
      "\n",
      "y_pred_lasso = lasso.fit(X_train, y_train).predict(X_test)\n",
      "r2_score_lasso = r2_score(y_test, y_pred_lasso)\n",
      "print(lasso)\n",
      "print(\"r^2 on test data : %f\" % r2_score_lasso)"
     ],
     "language": "python",
     "metadata": {},
     "outputs": [
      {
       "output_type": "stream",
       "stream": "stdout",
       "text": [
        "Lasso(alpha=0.1, copy_X=True, fit_intercept=True, max_iter=1000,\n",
        "   normalize=False, positive=False, precompute='auto', tol=0.0001,\n",
        "   warm_start=False)\n",
        "r^2 on test data : 0.711833\n"
       ]
      }
     ],
     "prompt_number": 14
    },
    {
     "cell_type": "code",
     "collapsed": false,
     "input": [],
     "language": "python",
     "metadata": {},
     "outputs": []
    }
   ],
   "metadata": {}
  }
 ]
}