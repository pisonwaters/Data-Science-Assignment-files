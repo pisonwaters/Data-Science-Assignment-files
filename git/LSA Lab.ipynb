{
 "metadata": {
  "name": "",
  "signature": "sha256:52f7fce4828eb37e56591f49b0e11959fdea329a82ea6c7ea6795be601b10290"
 },
 "nbformat": 3,
 "nbformat_minor": 0,
 "worksheets": [
  {
   "cells": [
    {
     "cell_type": "code",
     "collapsed": false,
     "input": [
      "    from bs4 import BeautifulSoup\n",
      "    import nltk\n",
      "    from nltk.corpus import stopwords\n",
      "    from sklearn.feature_extraction.text import TfidfVectorizer\n",
      "    from sklearn.decomposition import TruncatedSVD"
     ],
     "language": "python",
     "metadata": {},
     "outputs": [],
     "prompt_number": 2
    },
    {
     "cell_type": "code",
     "collapsed": false,
     "input": [
      "nltk.download('stopwords')"
     ],
     "language": "python",
     "metadata": {},
     "outputs": [
      {
       "output_type": "stream",
       "stream": "stdout",
       "text": [
        "[nltk_data] Downloading package stopwords to\n",
        "[nltk_data]     /Users/pisonwaters/nltk_data...\n",
        "[nltk_data]   Package stopwords is already up-to-date!"
       ]
      },
      {
       "output_type": "stream",
       "stream": "stdout",
       "text": [
        "\n"
       ]
      },
      {
       "metadata": {},
       "output_type": "pyout",
       "prompt_number": 3,
       "text": [
        "True"
       ]
      }
     ],
     "prompt_number": 3
    },
    {
     "cell_type": "code",
     "collapsed": false,
     "input": [
      "from sklearn.datasets import fetch_20newsgroups\n",
      "categories = ['rec.sport.baseball']\n",
      "dataset = fetch_20newsgroups(subset='all',shuffle=True, random_state=42, categories=categories)\n",
      "corpus = dataset.data"
     ],
     "language": "python",
     "metadata": {},
     "outputs": [],
     "prompt_number": 4
    },
    {
     "cell_type": "code",
     "collapsed": false,
     "input": [
      "#posts = ['Users/pisonwaters/Downloads/20news-bydate (1) 2/20news-bydate-train/rec.sport.baseball']"
     ],
     "language": "python",
     "metadata": {},
     "outputs": [],
     "prompt_number": 5
    },
    {
     "cell_type": "code",
     "collapsed": false,
     "input": [
      "stopset = set(stopwords.words('english'))\n",
      "stopset.update(['lt','p','/p','br','amp','quot','field','font','normal','span','0px','rgb','style','51', \n",
      "                 'spacing','text','helvetica','size','family', 'space', 'arial', 'height', 'indent', 'letter',\n",
      "                     'line','none','sans','serif','transform','line','variant','weight','times', 'new','strong', 'video', 'title',\n",
      "                   'white','word','letter', 'roman','0pt','16','color','12','14','21', 'neue', 'apple', 'class', '93', 'it', 'ndo' ])\n",
      "     \n"
     ],
     "language": "python",
     "metadata": {},
     "outputs": [],
     "prompt_number": 6
    },
    {
     "cell_type": "code",
     "collapsed": false,
     "input": [
      "corpus[0]"
     ],
     "language": "python",
     "metadata": {},
     "outputs": [
      {
       "metadata": {},
       "output_type": "pyout",
       "prompt_number": 7,
       "text": [
        "u\"From: writingctr@leo.bsuvc.bsu.edu\\nSubject: Re: CUB fever.\\nOrganization: Ball State University, Muncie, In - Univ. Computing Svc's\\nLines: 21\\n\\n\\nIn article <kingoz.735285670@camelot>, kingoz@camelot.bradley.edu (Orin Roth) writes:\\n> \\n>    CUB fever is hitting me again. I'm beginning to think they have a \\n>    chance this year. (what the heck am i thinking?)\\n>    Sorry. Just a moment of incompetence.\\n>    I'll be ok. Really. \\n>    Orin.\\n>    Bradley U.\\n> \\n> --\\n> I'm really a jester in disguise!                                   \\nI hear ya!  Then again, we must remember that we are indeed Cub fans, and\\nthat the Cubs will eventually blow it.  After all, the Cubs are the easiest\\nteam in the National League to root for.  No Pressure.  You know they will\\nlose eventually.  Oh well, I suppose we must have faith.  After all, they\\ndo look pretty good, and they don't even have Sandberg back yet.  \\n\\nCUBS IN '93!!!!!\\n\\nCHA\\n\""
       ]
      }
     ],
     "prompt_number": 7
    },
    {
     "cell_type": "code",
     "collapsed": false,
     "input": [
      "vectorizer = TfidfVectorizer(stop_words=stopset,\n",
      "use_idf=True, ngram_range=(1, 3))\n",
      "X = vectorizer.fit_transform(corpus)"
     ],
     "language": "python",
     "metadata": {},
     "outputs": [],
     "prompt_number": 8
    },
    {
     "cell_type": "code",
     "collapsed": false,
     "input": [
      "X[0]"
     ],
     "language": "python",
     "metadata": {},
     "outputs": [
      {
       "metadata": {},
       "output_type": "pyout",
       "prompt_number": 9,
       "text": [
        "<1x189971 sparse matrix of type '<type 'numpy.float64'>'\n",
        "\twith 232 stored elements in Compressed Sparse Row format>"
       ]
      }
     ],
     "prompt_number": 9
    },
    {
     "cell_type": "code",
     "collapsed": false,
     "input": [
      "print X[0]"
     ],
     "language": "python",
     "metadata": {},
     "outputs": [
      {
       "output_type": "stream",
       "stream": "stdout",
       "text": [
        "  (0, 189243)\t0.0739019782166\n",
        "  (0, 28876)\t0.0739019782166\n",
        "  (0, 146499)\t0.0739019782166\n",
        "  (0, 64348)\t0.0739019782166\n",
        "  (0, 77859)\t0.0739019782166\n",
        "  (0, 133099)\t0.0739019782166\n",
        "  (0, 103365)\t0.0739019782166\n",
        "  (0, 66735)\t0.0739019782166\n",
        "  (0, 114461)\t0.0739019782166\n",
        "  (0, 163204)\t0.0739019782166\n",
        "  (0, 181014)\t0.0739019782166\n",
        "  (0, 119565)\t0.0739019782166\n",
        "  (0, 64484)\t0.0739019782166\n",
        "  (0, 103859)\t0.0739019782166\n",
        "  (0, 95473)\t0.0739019782166\n",
        "  (0, 133014)\t0.0739019782166\n",
        "  (0, 143663)\t0.0739019782166\n",
        "  (0, 98067)\t0.0739019782166\n",
        "  (0, 115102)\t0.0739019782166\n",
        "  (0, 165563)\t0.0739019782166\n",
        "  (0, 59605)\t0.0739019782166\n",
        "  (0, 51435)\t0.0739019782166\n",
        "  (0, 35644)\t0.0739019782166\n",
        "  (0, 64474)\t0.0739019782166\n",
        "  (0, 51439)\t0.0739019782166\n",
        "  :\t:\n",
        "  (0, 143897)\t0.0555355430643\n",
        "  (0, 122232)\t0.111071086129\n",
        "  (0, 37433)\t0.0995983999163\n",
        "  (0, 40603)\t0.105173314448\n",
        "  (0, 16531)\t0.0739019782166\n",
        "  (0, 94884)\t0.111071086129\n",
        "  (0, 25701)\t0.016179227035\n",
        "  (0, 100747)\t0.0103125018272\n",
        "  (0, 163793)\t0.0610605281128\n",
        "  (0, 48080)\t0.0390379955096\n",
        "  (0, 175168)\t0.0393855034542\n",
        "  (0, 114259)\t0.0610605281128\n",
        "  (0, 175204)\t0.0180481146325\n",
        "  (0, 158966)\t0.0374578735605\n",
        "  (0, 29398)\t0.0308017654618\n",
        "  (0, 121619)\t0.0103332518396\n",
        "  (0, 68276)\t0.125281300124\n",
        "  (0, 51318)\t0.161866263346\n",
        "  (0, 137134)\t0.0127459753742\n",
        "  (0, 161766)\t0.0102505026303\n",
        "  (0, 60104)\t0.0238752706893\n",
        "  (0, 38673)\t0.0508251057133\n",
        "  (0, 38683)\t0.0508251057133\n",
        "  (0, 99093)\t0.0497991999581\n",
        "  (0, 186742)\t0.0739019782166\n"
       ]
      }
     ],
     "prompt_number": 10
    },
    {
     "cell_type": "code",
     "collapsed": false,
     "input": [],
     "language": "python",
     "metadata": {},
     "outputs": [],
     "prompt_number": 10
    }
   ],
   "metadata": {}
  }
 ]
}